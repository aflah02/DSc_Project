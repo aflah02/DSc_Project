{
 "cells": [
  {
   "cell_type": "code",
   "execution_count": 24,
   "metadata": {},
   "outputs": [],
   "source": [
    "import os\n",
    "import pandas as pd\n",
    "import numpy as np\n",
    "from scipy.stats import ttest_ind"
   ]
  },
  {
   "cell_type": "code",
   "execution_count": 25,
   "metadata": {},
   "outputs": [],
   "source": [
    "data = os.listdir('../Data/')"
   ]
  },
  {
   "cell_type": "code",
   "execution_count": 26,
   "metadata": {},
   "outputs": [],
   "source": [
    "# find all files with metric in name\n",
    "metric_files = [file for file in data if 'Predict' in file]"
   ]
  },
  {
   "cell_type": "code",
   "execution_count": 27,
   "metadata": {},
   "outputs": [
    {
     "data": {
      "text/plain": [
       "['FEATURETrans_Predict.csv',\n",
       " 'Raw_Predict.csv',\n",
       " 'SMOTE_FEATURETrans_Predict.csv',\n",
       " 'SMOTE_Predict.csv']"
      ]
     },
     "execution_count": 27,
     "metadata": {},
     "output_type": "execute_result"
    }
   ],
   "source": [
    "metric_files"
   ]
  },
  {
   "cell_type": "code",
   "execution_count": 28,
   "metadata": {},
   "outputs": [
    {
     "name": "stdout",
     "output_type": "stream",
     "text": [
      "FEATURETrans_Predict.csv\n",
      "KNeighborsClassifier:  -158.14652676671196 0.0\n",
      "DecisionTreeClassifier:  145.8373483367172 0.0\n",
      "RandomForestClassifier:  145.8373483367172 0.0\n",
      "MLPClassifier:  145.8373483367172 0.0\n",
      "GaussianNB:  145.8373483367172 0.0\n",
      "QuadraticDiscriminantAnalysis:  145.8373483367172 0.0\n",
      "Raw_Predict.csv\n",
      "KNeighborsClassifier:  96.62926910386707 0.0\n",
      "DecisionTreeClassifier:  182.2176504847901 0.0\n",
      "RandomForestClassifier:  204.96209682347146 0.0\n",
      "MLPClassifier:  204.96209682347146 0.0\n",
      "GaussianNB:  204.96209682347146 0.0\n",
      "QuadraticDiscriminantAnalysis:  -2338.851942120766 0.0\n",
      "SMOTE_FEATURETrans_Predict.csv\n",
      "KNeighborsClassifier:  6.750437067835655 1.4742252749199482e-11\n",
      "DecisionTreeClassifier:  -304.76683690820335 0.0\n",
      "RandomForestClassifier:  -277.7781006267306 0.0\n",
      "MLPClassifier:  -375.1576469649449 0.0\n",
      "GaussianNB:  -166.744855261381 0.0\n",
      "QuadraticDiscriminantAnalysis:  1501.152899153789 0.0\n",
      "SMOTE_Predict.csv\n",
      "KNeighborsClassifier:  -43.20856045048425 0.0\n",
      "DecisionTreeClassifier:  -406.7464785433803 0.0\n",
      "RandomForestClassifier:  -211.61672405993048 0.0\n",
      "MLPClassifier:  1694.9231193584649 0.0\n",
      "GaussianNB:  -1618.9827423193026 0.0\n",
      "QuadraticDiscriminantAnalysis:  -1309.8211614469235 0.0\n"
     ]
    }
   ],
   "source": [
    "for file in metric_files:\n",
    "    print(file)\n",
    "    df = pd.read_csv('../Data/' + file)\n",
    "    val, p = ttest_ind(df['labelnew'], df['KNeighborsClassifier_pred'])\n",
    "    print('KNeighborsClassifier: ', val, p)\n",
    "\n",
    "    val, p = ttest_ind(df['labelnew'], df['DecisionTreeClassifier_pred'])\n",
    "    print('DecisionTreeClassifier: ', val, p)\n",
    "\n",
    "    val, p = ttest_ind(df['labelnew'], df['RandomForestClassifier_pred'])\n",
    "    print('RandomForestClassifier: ', val, p)\n",
    "\n",
    "    val, p = ttest_ind(df['labelnew'], df['MLPClassifier_pred'])\n",
    "    print('MLPClassifier: ', val, p)\n",
    "\n",
    "    val, p = ttest_ind(df['labelnew'], df['GaussianNB_pred'])\n",
    "    print('GaussianNB: ', val, p)\n",
    "\n",
    "    val, p = ttest_ind(df['labelnew'], df['QuadraticDiscriminantAnalysis_pred'])\n",
    "    print('QuadraticDiscriminantAnalysis: ', val, p)"
   ]
  }
 ],
 "metadata": {
  "kernelspec": {
   "display_name": "Python 3",
   "language": "python",
   "name": "python3"
  },
  "language_info": {
   "codemirror_mode": {
    "name": "ipython",
    "version": 3
   },
   "file_extension": ".py",
   "mimetype": "text/x-python",
   "name": "python",
   "nbconvert_exporter": "python",
   "pygments_lexer": "ipython3",
   "version": "3.11.4"
  }
 },
 "nbformat": 4,
 "nbformat_minor": 2
}
