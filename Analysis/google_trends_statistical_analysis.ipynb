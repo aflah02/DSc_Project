{
 "cells": [
  {
   "cell_type": "code",
   "execution_count": 1,
   "metadata": {},
   "outputs": [],
   "source": [
    "import pandas as pd\n",
    "import numpy as np\n",
    "import matplotlib.pyplot as plt\n",
    "import seaborn as sns\n",
    "import scipy.stats as stats\n",
    "import os\n",
    "import plotly"
   ]
  },
  {
   "cell_type": "code",
   "execution_count": 2,
   "metadata": {},
   "outputs": [],
   "source": [
    "df_bitcoin = pd.read_csv('../Data/BitcoinHeistDataWithMonthAndDate.csv')"
   ]
  },
  {
   "cell_type": "code",
   "execution_count": 3,
   "metadata": {},
   "outputs": [
    {
     "data": {
      "text/html": [
       "<div>\n",
       "<style scoped>\n",
       "    .dataframe tbody tr th:only-of-type {\n",
       "        vertical-align: middle;\n",
       "    }\n",
       "\n",
       "    .dataframe tbody tr th {\n",
       "        vertical-align: top;\n",
       "    }\n",
       "\n",
       "    .dataframe thead th {\n",
       "        text-align: right;\n",
       "    }\n",
       "</style>\n",
       "<table border=\"1\" class=\"dataframe\">\n",
       "  <thead>\n",
       "    <tr style=\"text-align: right;\">\n",
       "      <th></th>\n",
       "      <th>address</th>\n",
       "      <th>year</th>\n",
       "      <th>day</th>\n",
       "      <th>length</th>\n",
       "      <th>weight</th>\n",
       "      <th>count</th>\n",
       "      <th>looped</th>\n",
       "      <th>neighbors</th>\n",
       "      <th>income</th>\n",
       "      <th>label</th>\n",
       "      <th>month</th>\n",
       "      <th>date</th>\n",
       "    </tr>\n",
       "  </thead>\n",
       "  <tbody>\n",
       "    <tr>\n",
       "      <th>0</th>\n",
       "      <td>111K8kZAEnJg245r2cM6y9zgJGHZtJPy6</td>\n",
       "      <td>2017</td>\n",
       "      <td>11</td>\n",
       "      <td>18</td>\n",
       "      <td>0.008333</td>\n",
       "      <td>1</td>\n",
       "      <td>0</td>\n",
       "      <td>2</td>\n",
       "      <td>1.000500e+08</td>\n",
       "      <td>princetonCerber</td>\n",
       "      <td>1</td>\n",
       "      <td>11</td>\n",
       "    </tr>\n",
       "    <tr>\n",
       "      <th>1</th>\n",
       "      <td>1123pJv8jzeFQaCV4w644pzQJzVWay2zcA</td>\n",
       "      <td>2016</td>\n",
       "      <td>132</td>\n",
       "      <td>44</td>\n",
       "      <td>0.000244</td>\n",
       "      <td>1</td>\n",
       "      <td>0</td>\n",
       "      <td>1</td>\n",
       "      <td>1.000000e+08</td>\n",
       "      <td>princetonLocky</td>\n",
       "      <td>5</td>\n",
       "      <td>11</td>\n",
       "    </tr>\n",
       "    <tr>\n",
       "      <th>2</th>\n",
       "      <td>112536im7hy6wtKbpH1qYDWtTyMRAcA2p7</td>\n",
       "      <td>2016</td>\n",
       "      <td>246</td>\n",
       "      <td>0</td>\n",
       "      <td>1.000000</td>\n",
       "      <td>1</td>\n",
       "      <td>0</td>\n",
       "      <td>2</td>\n",
       "      <td>2.000000e+08</td>\n",
       "      <td>princetonCerber</td>\n",
       "      <td>9</td>\n",
       "      <td>2</td>\n",
       "    </tr>\n",
       "    <tr>\n",
       "      <th>3</th>\n",
       "      <td>1126eDRw2wqSkWosjTCre8cjjQW8sSeWH7</td>\n",
       "      <td>2016</td>\n",
       "      <td>322</td>\n",
       "      <td>72</td>\n",
       "      <td>0.003906</td>\n",
       "      <td>1</td>\n",
       "      <td>0</td>\n",
       "      <td>2</td>\n",
       "      <td>7.120000e+07</td>\n",
       "      <td>princetonCerber</td>\n",
       "      <td>11</td>\n",
       "      <td>17</td>\n",
       "    </tr>\n",
       "    <tr>\n",
       "      <th>4</th>\n",
       "      <td>1129TSjKtx65E35GiUo4AYVeyo48twbrGX</td>\n",
       "      <td>2016</td>\n",
       "      <td>238</td>\n",
       "      <td>144</td>\n",
       "      <td>0.072848</td>\n",
       "      <td>456</td>\n",
       "      <td>0</td>\n",
       "      <td>1</td>\n",
       "      <td>2.000000e+08</td>\n",
       "      <td>princetonLocky</td>\n",
       "      <td>8</td>\n",
       "      <td>25</td>\n",
       "    </tr>\n",
       "    <tr>\n",
       "      <th>...</th>\n",
       "      <td>...</td>\n",
       "      <td>...</td>\n",
       "      <td>...</td>\n",
       "      <td>...</td>\n",
       "      <td>...</td>\n",
       "      <td>...</td>\n",
       "      <td>...</td>\n",
       "      <td>...</td>\n",
       "      <td>...</td>\n",
       "      <td>...</td>\n",
       "      <td>...</td>\n",
       "      <td>...</td>\n",
       "    </tr>\n",
       "    <tr>\n",
       "      <th>2916692</th>\n",
       "      <td>12D3trgho1vJ4mGtWBRPyHdMJK96TRYSry</td>\n",
       "      <td>2018</td>\n",
       "      <td>330</td>\n",
       "      <td>0</td>\n",
       "      <td>0.111111</td>\n",
       "      <td>1</td>\n",
       "      <td>0</td>\n",
       "      <td>1</td>\n",
       "      <td>1.255809e+09</td>\n",
       "      <td>white</td>\n",
       "      <td>11</td>\n",
       "      <td>26</td>\n",
       "    </tr>\n",
       "    <tr>\n",
       "      <th>2916693</th>\n",
       "      <td>1P7PputTcVkhXBmXBvSD9MJ3UYPsiou1u2</td>\n",
       "      <td>2018</td>\n",
       "      <td>330</td>\n",
       "      <td>0</td>\n",
       "      <td>1.000000</td>\n",
       "      <td>1</td>\n",
       "      <td>0</td>\n",
       "      <td>1</td>\n",
       "      <td>4.409699e+07</td>\n",
       "      <td>white</td>\n",
       "      <td>11</td>\n",
       "      <td>26</td>\n",
       "    </tr>\n",
       "    <tr>\n",
       "      <th>2916694</th>\n",
       "      <td>1KYiKJEfdJtap9QX2v9BXJMpz2SfU4pgZw</td>\n",
       "      <td>2018</td>\n",
       "      <td>330</td>\n",
       "      <td>2</td>\n",
       "      <td>12.000000</td>\n",
       "      <td>6</td>\n",
       "      <td>6</td>\n",
       "      <td>35</td>\n",
       "      <td>2.398267e+09</td>\n",
       "      <td>white</td>\n",
       "      <td>11</td>\n",
       "      <td>26</td>\n",
       "    </tr>\n",
       "    <tr>\n",
       "      <th>2916695</th>\n",
       "      <td>15iPUJsRNZQZHmZZVwmQ63srsmughCXV4a</td>\n",
       "      <td>2018</td>\n",
       "      <td>330</td>\n",
       "      <td>0</td>\n",
       "      <td>0.500000</td>\n",
       "      <td>1</td>\n",
       "      <td>0</td>\n",
       "      <td>1</td>\n",
       "      <td>1.780427e+08</td>\n",
       "      <td>white</td>\n",
       "      <td>11</td>\n",
       "      <td>26</td>\n",
       "    </tr>\n",
       "    <tr>\n",
       "      <th>2916696</th>\n",
       "      <td>3LFFBxp15h9KSFtaw55np8eP5fv6kdK17e</td>\n",
       "      <td>2018</td>\n",
       "      <td>330</td>\n",
       "      <td>144</td>\n",
       "      <td>0.073972</td>\n",
       "      <td>6800</td>\n",
       "      <td>0</td>\n",
       "      <td>2</td>\n",
       "      <td>1.123500e+08</td>\n",
       "      <td>white</td>\n",
       "      <td>11</td>\n",
       "      <td>26</td>\n",
       "    </tr>\n",
       "  </tbody>\n",
       "</table>\n",
       "<p>2916697 rows × 12 columns</p>\n",
       "</div>"
      ],
      "text/plain": [
       "                                    address  year  day  length     weight  \\\n",
       "0         111K8kZAEnJg245r2cM6y9zgJGHZtJPy6  2017   11      18   0.008333   \n",
       "1        1123pJv8jzeFQaCV4w644pzQJzVWay2zcA  2016  132      44   0.000244   \n",
       "2        112536im7hy6wtKbpH1qYDWtTyMRAcA2p7  2016  246       0   1.000000   \n",
       "3        1126eDRw2wqSkWosjTCre8cjjQW8sSeWH7  2016  322      72   0.003906   \n",
       "4        1129TSjKtx65E35GiUo4AYVeyo48twbrGX  2016  238     144   0.072848   \n",
       "...                                     ...   ...  ...     ...        ...   \n",
       "2916692  12D3trgho1vJ4mGtWBRPyHdMJK96TRYSry  2018  330       0   0.111111   \n",
       "2916693  1P7PputTcVkhXBmXBvSD9MJ3UYPsiou1u2  2018  330       0   1.000000   \n",
       "2916694  1KYiKJEfdJtap9QX2v9BXJMpz2SfU4pgZw  2018  330       2  12.000000   \n",
       "2916695  15iPUJsRNZQZHmZZVwmQ63srsmughCXV4a  2018  330       0   0.500000   \n",
       "2916696  3LFFBxp15h9KSFtaw55np8eP5fv6kdK17e  2018  330     144   0.073972   \n",
       "\n",
       "         count  looped  neighbors        income            label  month  date  \n",
       "0            1       0          2  1.000500e+08  princetonCerber      1    11  \n",
       "1            1       0          1  1.000000e+08   princetonLocky      5    11  \n",
       "2            1       0          2  2.000000e+08  princetonCerber      9     2  \n",
       "3            1       0          2  7.120000e+07  princetonCerber     11    17  \n",
       "4          456       0          1  2.000000e+08   princetonLocky      8    25  \n",
       "...        ...     ...        ...           ...              ...    ...   ...  \n",
       "2916692      1       0          1  1.255809e+09            white     11    26  \n",
       "2916693      1       0          1  4.409699e+07            white     11    26  \n",
       "2916694      6       6         35  2.398267e+09            white     11    26  \n",
       "2916695      1       0          1  1.780427e+08            white     11    26  \n",
       "2916696   6800       0          2  1.123500e+08            white     11    26  \n",
       "\n",
       "[2916697 rows x 12 columns]"
      ]
     },
     "execution_count": 3,
     "metadata": {},
     "output_type": "execute_result"
    }
   ],
   "source": [
    "df_bitcoin"
   ]
  },
  {
   "cell_type": "code",
   "execution_count": 4,
   "metadata": {},
   "outputs": [
    {
     "data": {
      "text/plain": [
       "month\n",
       "5     33002\n",
       "9     31001\n",
       "3     31000\n",
       "7     31000\n",
       "8     31000\n",
       "10    31000\n",
       "4     30000\n",
       "6     30000\n",
       "1     28000\n",
       "2     28000\n",
       "11    26000\n",
       "Name: count, dtype: int64"
      ]
     },
     "execution_count": 4,
     "metadata": {},
     "output_type": "execute_result"
    }
   ],
   "source": [
    "df_bitcoin[df_bitcoin['year'] == 2018]['month'].value_counts()"
   ]
  },
  {
   "cell_type": "code",
   "execution_count": 5,
   "metadata": {},
   "outputs": [],
   "source": [
    "# sort by year and then by month and then by date\n",
    "df_bitcoin = df_bitcoin.sort_values(by=['year', 'month', 'date'])"
   ]
  },
  {
   "cell_type": "code",
   "execution_count": 6,
   "metadata": {},
   "outputs": [],
   "source": [
    "ls_year = df_bitcoin['year'].to_list()\n",
    "ls_month = df_bitcoin['month'].to_list()\n",
    "ls_year_month = []\n",
    "for i in range(len(ls_year)):\n",
    "    ym = str(ls_year[i]) + '-'\n",
    "    if ls_month[i] < 10:\n",
    "        ym += '0'\n",
    "    ym += str(ls_month[i])\n",
    "    ls_year_month.append(ym)\n",
    "df_bitcoin['year_month'] = ls_year_month"
   ]
  },
  {
   "cell_type": "code",
   "execution_count": 7,
   "metadata": {},
   "outputs": [],
   "source": [
    "# randomly sample 10000 rows\n",
    "df_bitcoin_sample = df_bitcoin.sample(n=10000, random_state=1)"
   ]
  },
  {
   "cell_type": "code",
   "execution_count": 8,
   "metadata": {},
   "outputs": [],
   "source": [
    "min_year_month = df_bitcoin['year_month'].min()\n",
    "max_year_month = df_bitcoin['year_month'].max()\n",
    "\n",
    "min_year_month_sample = df_bitcoin_sample['year_month'].min()\n",
    "max_year_month_sample = df_bitcoin_sample['year_month'].max()"
   ]
  },
  {
   "cell_type": "code",
   "execution_count": 9,
   "metadata": {},
   "outputs": [
    {
     "data": {
      "text/plain": [
       "('2011-01', '2018-11', '2011-01', '2018-11')"
      ]
     },
     "execution_count": 9,
     "metadata": {},
     "output_type": "execute_result"
    }
   ],
   "source": [
    "min_year_month, max_year_month, min_year_month_sample, max_year_month_sample"
   ]
  },
  {
   "cell_type": "code",
   "execution_count": 10,
   "metadata": {},
   "outputs": [],
   "source": [
    "# create new dataframe with year_month and label\n",
    "df_bitcoin_year_month = df_bitcoin[['year_month', 'label']]\n",
    "df_bitcoin_year_month\n",
    "\n",
    "# for each year_month, count the number of white and non-white transactions and store in a new dataframe\n",
    "df_transaction_counts = pd.DataFrame(columns=['year_month', 'white_count', 'non_white_count'])\n",
    "for year_month in df_bitcoin_year_month['year_month'].unique():\n",
    "    df_year_month = df_bitcoin_year_month[df_bitcoin_year_month['year_month'] == year_month]\n",
    "    white_count = df_year_month[df_year_month['label'] == 'white']['label'].count()\n",
    "    non_white_count = df_year_month[df_year_month['label'] != 'white']['label'].count()\n",
    "    df_transaction_counts = pd.concat([df_transaction_counts, pd.DataFrame([[year_month, white_count, non_white_count]], columns=['year_month', 'white_count', 'non_white_count'])])\n",
    "df_transaction_counts['proportion_ransomware'] = df_transaction_counts['non_white_count'] / (df_transaction_counts['white_count'] + df_transaction_counts['non_white_count'])"
   ]
  },
  {
   "cell_type": "code",
   "execution_count": 11,
   "metadata": {},
   "outputs": [],
   "source": [
    "# create new dataframe with year_month and label\n",
    "df_bitcoin_sample_year_month = df_bitcoin_sample[['year_month', 'label']]\n",
    "df_bitcoin_sample_year_month\n",
    "\n",
    "# for each year_month, count the number of white and non-white transactions and store in a new dataframe\n",
    "df_transaction_counts_sample = pd.DataFrame(columns=['year_month', 'white_count', 'non_white_count'])\n",
    "for year_month in df_bitcoin_sample_year_month['year_month'].unique():\n",
    "    df_year_month = df_bitcoin_sample_year_month[df_bitcoin_sample_year_month['year_month'] == year_month]\n",
    "    white_count = df_year_month[df_year_month['label'] == 'white']['label'].count()\n",
    "    non_white_count = df_year_month[df_year_month['label'] != 'white']['label'].count()\n",
    "    df_transaction_counts_sample = pd.concat([df_transaction_counts_sample, pd.DataFrame([[year_month, white_count, non_white_count]], columns=['year_month', 'white_count', 'non_white_count'])])\n",
    "df_transaction_counts_sample['proportion_ransomware'] = df_transaction_counts_sample['non_white_count'] / (df_transaction_counts_sample['white_count'] + df_transaction_counts_sample['non_white_count'])"
   ]
  },
  {
   "cell_type": "code",
   "execution_count": 12,
   "metadata": {},
   "outputs": [],
   "source": [
    "ls_proportion_ransomware = df_transaction_counts['proportion_ransomware'].tolist()\n",
    "mean_proportion_ransomware = np.mean(ls_proportion_ransomware)\n",
    "std_dev_proportion_ransomware = np.std(ls_proportion_ransomware)\n",
    "\n",
    "ls_proportion_ransomware_sample = df_transaction_counts_sample['proportion_ransomware'].tolist()\n",
    "mean_proportion_ransomware_sample = np.mean(ls_proportion_ransomware_sample)\n",
    "std_dev_proportion_ransomware_sample = np.std(ls_proportion_ransomware_sample)"
   ]
  },
  {
   "cell_type": "code",
   "execution_count": 13,
   "metadata": {},
   "outputs": [
    {
     "data": {
      "text/plain": [
       "(0.034456267045332986,\n",
       " 0.1458550560780503,\n",
       " 0.012756622883689723,\n",
       " 0.022453133989450393)"
      ]
     },
     "execution_count": 13,
     "metadata": {},
     "output_type": "execute_result"
    }
   ],
   "source": [
    "mean_proportion_ransomware, std_dev_proportion_ransomware, mean_proportion_ransomware_sample, std_dev_proportion_ransomware_sample"
   ]
  },
  {
   "cell_type": "code",
   "execution_count": 14,
   "metadata": {},
   "outputs": [],
   "source": [
    "df_gtrend_bitcoin = pd.read_csv('../Data/GoogleTrends/Bitcoin.csv')\n",
    "df_gtrend_crypto = pd.read_csv('../Data/GoogleTrends/Cryptocurrency.csv')\n",
    "df_gtrend_ransomware = pd.read_csv('../Data/GoogleTrends/Ransomware.csv')"
   ]
  },
  {
   "cell_type": "code",
   "execution_count": 15,
   "metadata": {},
   "outputs": [
    {
     "data": {
      "text/plain": [
       "'bitcoin: (Worldwide)'"
      ]
     },
     "execution_count": 15,
     "metadata": {},
     "output_type": "execute_result"
    }
   ],
   "source": [
    "df_gtrend_bitcoin['Category: All categories']['Month']"
   ]
  },
  {
   "cell_type": "code",
   "execution_count": 16,
   "metadata": {},
   "outputs": [
    {
     "data": {
      "text/plain": [
       "'ransomware: (Worldwide)'"
      ]
     },
     "execution_count": 16,
     "metadata": {},
     "output_type": "execute_result"
    }
   ],
   "source": [
    "gtrend_bitcoin_dict = df_gtrend_bitcoin['Category: All categories'].to_dict()\n",
    "gtrend_crypto_dict = df_gtrend_crypto['Category: All categories'].to_dict()\n",
    "gtrend_ransomware_dict = df_gtrend_ransomware['Category: All categories'].to_dict()\n",
    "\n",
    "# remove first entry\n",
    "gtrend_bitcoin_dict.pop('Month')\n",
    "gtrend_crypto_dict.pop('Month')\n",
    "gtrend_ransomware_dict.pop('Month')\n"
   ]
  },
  {
   "cell_type": "code",
   "execution_count": 17,
   "metadata": {},
   "outputs": [],
   "source": [
    "# change all values which say '<1' to 0\n",
    "for key, value in gtrend_bitcoin_dict.items():\n",
    "    if value == '<1':\n",
    "        gtrend_bitcoin_dict[key] = 0\n",
    "\n",
    "for key, value in gtrend_crypto_dict.items():\n",
    "    if value == '<1':\n",
    "        gtrend_crypto_dict[key] = 0\n",
    "\n",
    "for key, value in gtrend_ransomware_dict.items():\n",
    "    if value == '<1':\n",
    "        gtrend_ransomware_dict[key] = 0"
   ]
  },
  {
   "cell_type": "code",
   "execution_count": 18,
   "metadata": {},
   "outputs": [],
   "source": [
    "# change all values to int\n",
    "for key, value in gtrend_bitcoin_dict.items():\n",
    "    gtrend_bitcoin_dict[key] = int(value)\n",
    "\n",
    "for key, value in gtrend_crypto_dict.items():\n",
    "    gtrend_crypto_dict[key] = int(value)\n",
    "\n",
    "for key, value in gtrend_ransomware_dict.items():\n",
    "    gtrend_ransomware_dict[key] = int(value)"
   ]
  },
  {
   "cell_type": "code",
   "execution_count": 19,
   "metadata": {},
   "outputs": [],
   "source": [
    "# remove keys which are not in the range of the bitcoin dataset\n",
    "for key in list(gtrend_bitcoin_dict.keys()):\n",
    "    min_year = int(min_year_month.split('-')[0])\n",
    "    max_year = int(max_year_month.split('-')[0])\n",
    "    min_month = int(min_year_month.split('-')[1])\n",
    "    max_month = int(max_year_month.split('-')[1])\n",
    "    year = int(key.split('-')[0])\n",
    "    month = int(key.split('-')[1])\n",
    "    if year < min_year or year > max_year:\n",
    "        gtrend_bitcoin_dict.pop(key)\n",
    "    elif year == min_year and month < min_month:\n",
    "        gtrend_bitcoin_dict.pop(key)\n",
    "    elif year == max_year and month > max_month:\n",
    "        gtrend_bitcoin_dict.pop(key)\n",
    "\n",
    "for key in list(gtrend_crypto_dict.keys()):\n",
    "    min_year = int(min_year_month.split('-')[0])\n",
    "    max_year = int(max_year_month.split('-')[0])\n",
    "    min_month = int(min_year_month.split('-')[1])\n",
    "    max_month = int(max_year_month.split('-')[1])\n",
    "    year = int(key.split('-')[0])\n",
    "    month = int(key.split('-')[1])\n",
    "    if year < min_year or year > max_year:\n",
    "        gtrend_crypto_dict.pop(key)\n",
    "    elif year == min_year and month < min_month:\n",
    "        gtrend_crypto_dict.pop(key)\n",
    "    elif year == max_year and month > max_month:\n",
    "        gtrend_crypto_dict.pop(key)\n",
    "\n",
    "for key in list(gtrend_ransomware_dict.keys()):\n",
    "    min_year = int(min_year_month.split('-')[0])\n",
    "    max_year = int(max_year_month.split('-')[0])\n",
    "    min_month = int(min_year_month.split('-')[1])\n",
    "    max_month = int(max_year_month.split('-')[1])\n",
    "    year = int(key.split('-')[0])\n",
    "    month = int(key.split('-')[1])\n",
    "    if year < min_year or year > max_year:\n",
    "        gtrend_ransomware_dict.pop(key)\n",
    "    elif year == min_year and month < min_month:\n",
    "        gtrend_ransomware_dict.pop(key)\n",
    "    elif year == max_year and month > max_month:\n",
    "        gtrend_ransomware_dict.pop(key)"
   ]
  },
  {
   "cell_type": "code",
   "execution_count": 20,
   "metadata": {},
   "outputs": [],
   "source": [
    "# find top 5 keys with highest values\n",
    "top_10_bitcoin_gtrend = sorted(gtrend_bitcoin_dict, key=gtrend_bitcoin_dict.get, reverse=True)[:10]\n",
    "top_10_crypto_gtrend = sorted(gtrend_crypto_dict, key=gtrend_crypto_dict.get, reverse=True)[:10]\n",
    "top_10_ransomware_gtrend = sorted(gtrend_ransomware_dict, key=gtrend_ransomware_dict.get, reverse=True)[:10]\n",
    "\n",
    "# find top 5 values\n",
    "top_10_bitcoin_gtrend_values = sorted(gtrend_bitcoin_dict.values(), reverse=True)[:10]\n",
    "top_10_crypto_gtrend_values = sorted(gtrend_crypto_dict.values(), reverse=True)[:10]\n",
    "top_10_ransomware_gtrend_values = sorted(gtrend_ransomware_dict.values(), reverse=True)[:10]"
   ]
  },
  {
   "cell_type": "markdown",
   "metadata": {},
   "source": [
    "## Bitcoin"
   ]
  },
  {
   "cell_type": "code",
   "execution_count": 21,
   "metadata": {},
   "outputs": [
    {
     "name": "stdout",
     "output_type": "stream",
     "text": [
      "z_score: -1.7966304206458878\n",
      "z_critical: 1.6448536269514722\n",
      "Fail to reject null hypothesis\n"
     ]
    }
   ],
   "source": [
    "# find entries in df_transaction_counts which correspond to the top 5 bitcoin gtrend values\n",
    "df_transaction_counts_sample_top_10_bitcoin = df_transaction_counts_sample[df_transaction_counts_sample['year_month'].isin(top_10_bitcoin_gtrend)]\n",
    "\n",
    "# perform Z-test on the top 5 bitcoin gtrend values\n",
    "ls_proportion_ransomware_sample_top_5_bitcoin = df_transaction_counts_sample_top_10_bitcoin['proportion_ransomware'].tolist()\n",
    "mean_proportion_ransomware_sample_top_5_bitcoin = np.mean(ls_proportion_ransomware_sample_top_5_bitcoin)\n",
    "std_dev_proportion_ransomware_sample_top_5_bitcoin = np.std(ls_proportion_ransomware_sample_top_5_bitcoin)\n",
    "\n",
    "sample_size = len(ls_proportion_ransomware_sample_top_5_bitcoin)\n",
    "sample_mean = mean_proportion_ransomware_sample_top_5_bitcoin\n",
    "population_mean = mean_proportion_ransomware_sample\n",
    "population_std_dev = std_dev_proportion_ransomware_sample\n",
    "alpha = 0.05\n",
    "\n",
    "z_score = (sample_mean - population_mean) / (population_std_dev / np.sqrt(sample_size))\n",
    "z_critical = stats.norm.ppf(1 - alpha)\n",
    "\n",
    "print('z_score:', z_score)\n",
    "print('z_critical:', z_critical)\n",
    "\n",
    "if z_score > z_critical:\n",
    "    print('Reject null hypothesis')\n",
    "else:\n",
    "    print('Fail to reject null hypothesis')"
   ]
  },
  {
   "cell_type": "code",
   "execution_count": 22,
   "metadata": {},
   "outputs": [
    {
     "name": "stdout",
     "output_type": "stream",
     "text": [
      "z_score: -0.7097783318440752\n",
      "z_critical: 1.6448536269514722\n",
      "Fail to reject null hypothesis\n"
     ]
    }
   ],
   "source": [
    "# find entries in df_transaction_counts which correspond to the top 5 bitcoin gtrend values\n",
    "df_transaction_counts_top_10_bitcoin = df_transaction_counts[df_transaction_counts['year_month'].isin(top_10_bitcoin_gtrend)]\n",
    "\n",
    "# perform Z-test on the top 5 bitcoin gtrend values\n",
    "ls_proportion_ransomware_top_5_bitcoin = df_transaction_counts_top_10_bitcoin['proportion_ransomware'].tolist()\n",
    "mean_proportion_ransomware_top_5_bitcoin = np.mean(ls_proportion_ransomware_top_5_bitcoin)\n",
    "std_dev_proportion_ransomware_top_5_bitcoin = np.std(ls_proportion_ransomware_top_5_bitcoin)\n",
    "\n",
    "sample_size = len(ls_proportion_ransomware_top_5_bitcoin)\n",
    "sample_mean = mean_proportion_ransomware_top_5_bitcoin\n",
    "population_mean = mean_proportion_ransomware\n",
    "population_std_dev = std_dev_proportion_ransomware\n",
    "alpha = 0.05\n",
    "\n",
    "z_score = (sample_mean - population_mean) / (population_std_dev / np.sqrt(sample_size))\n",
    "z_critical = stats.norm.ppf(1 - alpha)\n",
    "\n",
    "print('z_score:', z_score)\n",
    "print('z_critical:', z_critical)\n",
    "\n",
    "if z_score > z_critical:\n",
    "    print('Reject null hypothesis')\n",
    "else:\n",
    "    print('Fail to reject null hypothesis')"
   ]
  },
  {
   "cell_type": "markdown",
   "metadata": {},
   "source": [
    "## Crypto"
   ]
  },
  {
   "cell_type": "code",
   "execution_count": 23,
   "metadata": {},
   "outputs": [
    {
     "name": "stdout",
     "output_type": "stream",
     "text": [
      "z_score: -0.7470449531207568\n",
      "z_critical: 1.6448536269514722\n",
      "Fail to reject null hypothesis\n"
     ]
    }
   ],
   "source": [
    "# find entries in df_transaction_counts which correspond to the top 5 crypto gtrend values\n",
    "df_transaction_counts_sample_top_10_crypto = df_transaction_counts_sample[df_transaction_counts_sample['year_month'].isin(top_10_crypto_gtrend)]\n",
    "\n",
    "# perform Z-test on the top 5 crypto gtrend values\n",
    "ls_proportion_ransomware_sample_top_10_crypto = df_transaction_counts_sample_top_10_crypto['proportion_ransomware'].tolist()\n",
    "mean_proportion_ransomware_sample_top_10_crypto = np.mean(ls_proportion_ransomware_sample_top_10_crypto)\n",
    "std_dev_proportion_ransomware_sample_top_10_crypto = np.std(ls_proportion_ransomware_sample_top_10_crypto)\n",
    "\n",
    "sample_size = len(ls_proportion_ransomware_sample_top_10_crypto)\n",
    "sample_mean = mean_proportion_ransomware_sample_top_10_crypto\n",
    "population_mean = mean_proportion_ransomware\n",
    "population_std_dev = std_dev_proportion_ransomware\n",
    "alpha = 0.05\n",
    "\n",
    "z_score = (sample_mean - population_mean) / (population_std_dev / np.sqrt(sample_size))\n",
    "z_critical = stats.norm.ppf(1 - alpha)\n",
    "\n",
    "print('z_score:', z_score)\n",
    "print('z_critical:', z_critical)\n",
    "\n",
    "if z_score > z_critical:\n",
    "    print('Reject null hypothesis')\n",
    "else:\n",
    "    print('Fail to reject null hypothesis')"
   ]
  },
  {
   "cell_type": "code",
   "execution_count": 24,
   "metadata": {},
   "outputs": [
    {
     "name": "stdout",
     "output_type": "stream",
     "text": [
      "z_score: -0.7367439586117552\n",
      "z_critical: 1.6448536269514722\n",
      "Fail to reject null hypothesis\n"
     ]
    }
   ],
   "source": [
    "# find entries in df_transaction_counts which correspond to the top 5 crypto gtrend values\n",
    "df_transaction_counts_top_10_crypto = df_transaction_counts[df_transaction_counts['year_month'].isin(top_10_crypto_gtrend)]\n",
    "\n",
    "# perform Z-test on the top 5 crypto gtrend values\n",
    "ls_proportion_ransomware_top_10_crypto = df_transaction_counts_top_10_crypto['proportion_ransomware'].tolist()\n",
    "mean_proportion_ransomware_top_10_crypto = np.mean(ls_proportion_ransomware_top_10_crypto)\n",
    "std_dev_proportion_ransomware_top_10_crypto = np.std(ls_proportion_ransomware_top_10_crypto)\n",
    "\n",
    "sample_size = len(ls_proportion_ransomware_top_10_crypto)\n",
    "sample_mean = mean_proportion_ransomware_top_10_crypto\n",
    "population_mean = mean_proportion_ransomware\n",
    "population_std_dev = std_dev_proportion_ransomware\n",
    "alpha = 0.05\n",
    "\n",
    "z_score = (sample_mean - population_mean) / (population_std_dev / np.sqrt(sample_size))\n",
    "z_critical = stats.norm.ppf(1 - alpha)\n",
    "\n",
    "print('z_score:', z_score)\n",
    "print('z_critical:', z_critical)\n",
    "\n",
    "if z_score > z_critical:\n",
    "    print('Reject null hypothesis')\n",
    "else:\n",
    "    print('Fail to reject null hypothesis')"
   ]
  },
  {
   "cell_type": "markdown",
   "metadata": {},
   "source": [
    "## Ransomware"
   ]
  },
  {
   "cell_type": "code",
   "execution_count": 25,
   "metadata": {},
   "outputs": [
    {
     "name": "stdout",
     "output_type": "stream",
     "text": [
      "z_score: -0.11454219308627388\n",
      "z_critical: 1.6448536269514722\n",
      "Fail to reject null hypothesis\n"
     ]
    }
   ],
   "source": [
    "# find entries in df_transaction_counts which correspond to the top 5 ransomware gtrend values\n",
    "df_transaction_counts_top_10_ransomware_sample = df_transaction_counts_sample[df_transaction_counts_sample['year_month'].isin(top_10_ransomware_gtrend)]\n",
    "\n",
    "# perform Z-test on the top 10 ransomware gtrend values\n",
    "ls_proportion_ransomware_sample_top_10_ransomware = df_transaction_counts_top_10_ransomware_sample['proportion_ransomware'].tolist()\n",
    "mean_proportion_ransomware_sample_top_10_ransomware = np.mean(ls_proportion_ransomware_sample_top_10_ransomware)\n",
    "std_dev_proportion_ransomware_sample_top_10_ransomware = np.std(ls_proportion_ransomware_sample_top_10_ransomware)\n",
    "\n",
    "sample_size = len(ls_proportion_ransomware_sample_top_10_ransomware)\n",
    "sample_mean = mean_proportion_ransomware_sample_top_10_ransomware\n",
    "population_mean = mean_proportion_ransomware\n",
    "population_std_dev = std_dev_proportion_ransomware\n",
    "alpha = 0.05\n",
    "\n",
    "z_score = (sample_mean - population_mean) / (population_std_dev / np.sqrt(sample_size))\n",
    "z_critical = stats.norm.ppf(1 - alpha)\n",
    "\n",
    "print('z_score:', z_score)\n",
    "print('z_critical:', z_critical)\n",
    "\n",
    "if z_score > z_critical:\n",
    "    print('Reject null hypothesis')\n",
    "else:\n",
    "    print('Fail to reject null hypothesis')"
   ]
  },
  {
   "cell_type": "code",
   "execution_count": 26,
   "metadata": {},
   "outputs": [
    {
     "name": "stdout",
     "output_type": "stream",
     "text": [
      "z_score: -0.11060596476950808\n",
      "z_critical: 1.6448536269514722\n",
      "Fail to reject null hypothesis\n"
     ]
    }
   ],
   "source": [
    "# find entries in df_transaction_counts which correspond to the top 5 ransomware gtrend values\n",
    "df_transaction_counts_top_10_ransomware = df_transaction_counts[df_transaction_counts['year_month'].isin(top_10_ransomware_gtrend)]\n",
    "\n",
    "# perform Z-test on the top 10 ransomware gtrend values\n",
    "ls_proportion_ransomware_top_10_ransomware = df_transaction_counts_top_10_ransomware['proportion_ransomware'].tolist()\n",
    "mean_proportion_ransomware_top_10_ransomware = np.mean(ls_proportion_ransomware_top_10_ransomware)\n",
    "std_dev_proportion_ransomware_top_10_ransomware = np.std(ls_proportion_ransomware_top_10_ransomware)\n",
    "\n",
    "sample_size = len(ls_proportion_ransomware_top_10_ransomware)\n",
    "sample_mean = mean_proportion_ransomware_top_10_ransomware\n",
    "population_mean = mean_proportion_ransomware\n",
    "population_std_dev = std_dev_proportion_ransomware\n",
    "alpha = 0.05\n",
    "\n",
    "z_score = (sample_mean - population_mean) / (population_std_dev / np.sqrt(sample_size))\n",
    "z_critical = stats.norm.ppf(1 - alpha)\n",
    "\n",
    "print('z_score:', z_score)\n",
    "print('z_critical:', z_critical)\n",
    "\n",
    "if z_score > z_critical:\n",
    "    print('Reject null hypothesis')\n",
    "else:\n",
    "    print('Fail to reject null hypothesis')"
   ]
  }
 ],
 "metadata": {
  "kernelspec": {
   "display_name": "Python 3",
   "language": "python",
   "name": "python3"
  },
  "language_info": {
   "codemirror_mode": {
    "name": "ipython",
    "version": 3
   },
   "file_extension": ".py",
   "mimetype": "text/x-python",
   "name": "python",
   "nbconvert_exporter": "python",
   "pygments_lexer": "ipython3",
   "version": "3.11.4"
  }
 },
 "nbformat": 4,
 "nbformat_minor": 2
}
