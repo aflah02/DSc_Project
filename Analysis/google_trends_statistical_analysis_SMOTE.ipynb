{
 "cells": [
  {
   "cell_type": "code",
   "execution_count": 31,
   "metadata": {},
   "outputs": [],
   "source": [
    "import pandas as pd\n",
    "import numpy as np\n",
    "import matplotlib.pyplot as plt\n",
    "import seaborn as sns\n",
    "import scipy.stats as stats\n",
    "import os\n",
    "import plotly"
   ]
  },
  {
   "cell_type": "code",
   "execution_count": 32,
   "metadata": {},
   "outputs": [
    {
     "name": "stdout",
     "output_type": "stream",
     "text": [
      "Day 200 in 2023 is in month 7 and the date is 19.\n"
     ]
    }
   ],
   "source": [
    "def is_leap_year(year):\n",
    "    # Function to check if a year is a leap year\n",
    "    if (year % 4 == 0 and year % 100 != 0) or (year % 400 == 0):\n",
    "        return True\n",
    "    return False\n",
    "\n",
    "cache = {}\n",
    "\n",
    "def day_number_to_date(day_number, year):\n",
    "    if (day_number, year) in cache:\n",
    "        return cache[(day_number, year)]\n",
    "    \n",
    "    days_in_month = [31, 28 if not is_leap_year(year) else 29, 31, 30, 31, 30, 31, 31, 30, 31, 30, 31]\n",
    "    \n",
    "    if day_number < 1 or day_number > sum(days_in_month):\n",
    "        return None  # Invalid day number\n",
    "    \n",
    "    month = 1\n",
    "    while day_number > days_in_month[month - 1]:\n",
    "        day_number -= days_in_month[month - 1]\n",
    "        month += 1\n",
    "    cache[(day_number, year)] = (month, day_number)\n",
    "    return month, day_number\n",
    "\n",
    "# Example usage:\n",
    "day = 200\n",
    "year = 2023  # Replace with your desired year\n",
    "result = day_number_to_date(day, year)\n",
    "\n",
    "if result:\n",
    "    month, date = result\n",
    "    print(f\"Day {day} in {year} is in month {month} and the date is {date}.\")\n",
    "else:\n",
    "    print(\"Invalid day number.\")"
   ]
  },
  {
   "cell_type": "code",
   "execution_count": 33,
   "metadata": {},
   "outputs": [],
   "source": [
    "df_bitcoin = pd.read_csv('../Data/SMOTE_Predict.csv')"
   ]
  },
  {
   "cell_type": "code",
   "execution_count": 34,
   "metadata": {},
   "outputs": [
    {
     "data": {
      "text/html": [
       "<div>\n",
       "<style scoped>\n",
       "    .dataframe tbody tr th:only-of-type {\n",
       "        vertical-align: middle;\n",
       "    }\n",
       "\n",
       "    .dataframe tbody tr th {\n",
       "        vertical-align: top;\n",
       "    }\n",
       "\n",
       "    .dataframe thead th {\n",
       "        text-align: right;\n",
       "    }\n",
       "</style>\n",
       "<table border=\"1\" class=\"dataframe\">\n",
       "  <thead>\n",
       "    <tr style=\"text-align: right;\">\n",
       "      <th></th>\n",
       "      <th>Unnamed: 0</th>\n",
       "      <th>year</th>\n",
       "      <th>day</th>\n",
       "      <th>length</th>\n",
       "      <th>weight</th>\n",
       "      <th>count</th>\n",
       "      <th>looped</th>\n",
       "      <th>neighbors</th>\n",
       "      <th>income</th>\n",
       "      <th>labelnew</th>\n",
       "      <th>KNeighborsClassifier_pred</th>\n",
       "      <th>DecisionTreeClassifier_pred</th>\n",
       "      <th>RandomForestClassifier_pred</th>\n",
       "      <th>MLPClassifier_pred</th>\n",
       "      <th>GaussianNB_pred</th>\n",
       "      <th>QuadraticDiscriminantAnalysis_pred</th>\n",
       "    </tr>\n",
       "  </thead>\n",
       "  <tbody>\n",
       "    <tr>\n",
       "      <th>0</th>\n",
       "      <td>0</td>\n",
       "      <td>2017</td>\n",
       "      <td>11</td>\n",
       "      <td>18</td>\n",
       "      <td>0.008333</td>\n",
       "      <td>1</td>\n",
       "      <td>0</td>\n",
       "      <td>2</td>\n",
       "      <td>100050000</td>\n",
       "      <td>1</td>\n",
       "      <td>1</td>\n",
       "      <td>0</td>\n",
       "      <td>1</td>\n",
       "      <td>0</td>\n",
       "      <td>1</td>\n",
       "      <td>1</td>\n",
       "    </tr>\n",
       "    <tr>\n",
       "      <th>1</th>\n",
       "      <td>1</td>\n",
       "      <td>2016</td>\n",
       "      <td>132</td>\n",
       "      <td>44</td>\n",
       "      <td>0.000244</td>\n",
       "      <td>1</td>\n",
       "      <td>0</td>\n",
       "      <td>1</td>\n",
       "      <td>100000000</td>\n",
       "      <td>1</td>\n",
       "      <td>1</td>\n",
       "      <td>1</td>\n",
       "      <td>1</td>\n",
       "      <td>0</td>\n",
       "      <td>1</td>\n",
       "      <td>1</td>\n",
       "    </tr>\n",
       "    <tr>\n",
       "      <th>2</th>\n",
       "      <td>2</td>\n",
       "      <td>2016</td>\n",
       "      <td>246</td>\n",
       "      <td>0</td>\n",
       "      <td>1.000000</td>\n",
       "      <td>1</td>\n",
       "      <td>0</td>\n",
       "      <td>2</td>\n",
       "      <td>200000000</td>\n",
       "      <td>1</td>\n",
       "      <td>1</td>\n",
       "      <td>1</td>\n",
       "      <td>0</td>\n",
       "      <td>0</td>\n",
       "      <td>1</td>\n",
       "      <td>1</td>\n",
       "    </tr>\n",
       "    <tr>\n",
       "      <th>3</th>\n",
       "      <td>3</td>\n",
       "      <td>2016</td>\n",
       "      <td>322</td>\n",
       "      <td>72</td>\n",
       "      <td>0.003906</td>\n",
       "      <td>1</td>\n",
       "      <td>0</td>\n",
       "      <td>2</td>\n",
       "      <td>71200000</td>\n",
       "      <td>1</td>\n",
       "      <td>0</td>\n",
       "      <td>1</td>\n",
       "      <td>0</td>\n",
       "      <td>0</td>\n",
       "      <td>1</td>\n",
       "      <td>1</td>\n",
       "    </tr>\n",
       "    <tr>\n",
       "      <th>4</th>\n",
       "      <td>4</td>\n",
       "      <td>2016</td>\n",
       "      <td>238</td>\n",
       "      <td>144</td>\n",
       "      <td>0.072848</td>\n",
       "      <td>456</td>\n",
       "      <td>0</td>\n",
       "      <td>1</td>\n",
       "      <td>200000000</td>\n",
       "      <td>1</td>\n",
       "      <td>1</td>\n",
       "      <td>1</td>\n",
       "      <td>1</td>\n",
       "      <td>0</td>\n",
       "      <td>1</td>\n",
       "      <td>1</td>\n",
       "    </tr>\n",
       "    <tr>\n",
       "      <th>...</th>\n",
       "      <td>...</td>\n",
       "      <td>...</td>\n",
       "      <td>...</td>\n",
       "      <td>...</td>\n",
       "      <td>...</td>\n",
       "      <td>...</td>\n",
       "      <td>...</td>\n",
       "      <td>...</td>\n",
       "      <td>...</td>\n",
       "      <td>...</td>\n",
       "      <td>...</td>\n",
       "      <td>...</td>\n",
       "      <td>...</td>\n",
       "      <td>...</td>\n",
       "      <td>...</td>\n",
       "      <td>...</td>\n",
       "    </tr>\n",
       "    <tr>\n",
       "      <th>2875279</th>\n",
       "      <td>2875279</td>\n",
       "      <td>2016</td>\n",
       "      <td>163</td>\n",
       "      <td>144</td>\n",
       "      <td>0.118811</td>\n",
       "      <td>3905</td>\n",
       "      <td>0</td>\n",
       "      <td>2</td>\n",
       "      <td>50000000</td>\n",
       "      <td>1</td>\n",
       "      <td>1</td>\n",
       "      <td>0</td>\n",
       "      <td>0</td>\n",
       "      <td>0</td>\n",
       "      <td>1</td>\n",
       "      <td>1</td>\n",
       "    </tr>\n",
       "    <tr>\n",
       "      <th>2875280</th>\n",
       "      <td>2875280</td>\n",
       "      <td>2013</td>\n",
       "      <td>174</td>\n",
       "      <td>80</td>\n",
       "      <td>1.823454</td>\n",
       "      <td>1254</td>\n",
       "      <td>235</td>\n",
       "      <td>3</td>\n",
       "      <td>213000000</td>\n",
       "      <td>1</td>\n",
       "      <td>1</td>\n",
       "      <td>1</td>\n",
       "      <td>1</td>\n",
       "      <td>0</td>\n",
       "      <td>1</td>\n",
       "      <td>1</td>\n",
       "    </tr>\n",
       "    <tr>\n",
       "      <th>2875281</th>\n",
       "      <td>2875281</td>\n",
       "      <td>2014</td>\n",
       "      <td>14</td>\n",
       "      <td>0</td>\n",
       "      <td>0.856846</td>\n",
       "      <td>1</td>\n",
       "      <td>0</td>\n",
       "      <td>1</td>\n",
       "      <td>100000000</td>\n",
       "      <td>1</td>\n",
       "      <td>0</td>\n",
       "      <td>1</td>\n",
       "      <td>1</td>\n",
       "      <td>0</td>\n",
       "      <td>1</td>\n",
       "      <td>1</td>\n",
       "    </tr>\n",
       "    <tr>\n",
       "      <th>2875282</th>\n",
       "      <td>2875282</td>\n",
       "      <td>2015</td>\n",
       "      <td>176</td>\n",
       "      <td>0</td>\n",
       "      <td>0.858651</td>\n",
       "      <td>1</td>\n",
       "      <td>0</td>\n",
       "      <td>1</td>\n",
       "      <td>208000000</td>\n",
       "      <td>1</td>\n",
       "      <td>1</td>\n",
       "      <td>1</td>\n",
       "      <td>1</td>\n",
       "      <td>0</td>\n",
       "      <td>1</td>\n",
       "      <td>1</td>\n",
       "    </tr>\n",
       "    <tr>\n",
       "      <th>2875283</th>\n",
       "      <td>2875283</td>\n",
       "      <td>2017</td>\n",
       "      <td>236</td>\n",
       "      <td>136</td>\n",
       "      <td>0.899282</td>\n",
       "      <td>5401</td>\n",
       "      <td>0</td>\n",
       "      <td>2</td>\n",
       "      <td>40000000</td>\n",
       "      <td>1</td>\n",
       "      <td>1</td>\n",
       "      <td>1</td>\n",
       "      <td>1</td>\n",
       "      <td>0</td>\n",
       "      <td>1</td>\n",
       "      <td>1</td>\n",
       "    </tr>\n",
       "  </tbody>\n",
       "</table>\n",
       "<p>2875284 rows × 16 columns</p>\n",
       "</div>"
      ],
      "text/plain": [
       "         Unnamed: 0  year  day  length    weight  count  looped  neighbors  \\\n",
       "0                 0  2017   11      18  0.008333      1       0          2   \n",
       "1                 1  2016  132      44  0.000244      1       0          1   \n",
       "2                 2  2016  246       0  1.000000      1       0          2   \n",
       "3                 3  2016  322      72  0.003906      1       0          2   \n",
       "4                 4  2016  238     144  0.072848    456       0          1   \n",
       "...             ...   ...  ...     ...       ...    ...     ...        ...   \n",
       "2875279     2875279  2016  163     144  0.118811   3905       0          2   \n",
       "2875280     2875280  2013  174      80  1.823454   1254     235          3   \n",
       "2875281     2875281  2014   14       0  0.856846      1       0          1   \n",
       "2875282     2875282  2015  176       0  0.858651      1       0          1   \n",
       "2875283     2875283  2017  236     136  0.899282   5401       0          2   \n",
       "\n",
       "            income  labelnew  KNeighborsClassifier_pred  \\\n",
       "0        100050000         1                          1   \n",
       "1        100000000         1                          1   \n",
       "2        200000000         1                          1   \n",
       "3         71200000         1                          0   \n",
       "4        200000000         1                          1   \n",
       "...            ...       ...                        ...   \n",
       "2875279   50000000         1                          1   \n",
       "2875280  213000000         1                          1   \n",
       "2875281  100000000         1                          0   \n",
       "2875282  208000000         1                          1   \n",
       "2875283   40000000         1                          1   \n",
       "\n",
       "         DecisionTreeClassifier_pred  RandomForestClassifier_pred  \\\n",
       "0                                  0                            1   \n",
       "1                                  1                            1   \n",
       "2                                  1                            0   \n",
       "3                                  1                            0   \n",
       "4                                  1                            1   \n",
       "...                              ...                          ...   \n",
       "2875279                            0                            0   \n",
       "2875280                            1                            1   \n",
       "2875281                            1                            1   \n",
       "2875282                            1                            1   \n",
       "2875283                            1                            1   \n",
       "\n",
       "         MLPClassifier_pred  GaussianNB_pred  \\\n",
       "0                         0                1   \n",
       "1                         0                1   \n",
       "2                         0                1   \n",
       "3                         0                1   \n",
       "4                         0                1   \n",
       "...                     ...              ...   \n",
       "2875279                   0                1   \n",
       "2875280                   0                1   \n",
       "2875281                   0                1   \n",
       "2875282                   0                1   \n",
       "2875283                   0                1   \n",
       "\n",
       "         QuadraticDiscriminantAnalysis_pred  \n",
       "0                                         1  \n",
       "1                                         1  \n",
       "2                                         1  \n",
       "3                                         1  \n",
       "4                                         1  \n",
       "...                                     ...  \n",
       "2875279                                   1  \n",
       "2875280                                   1  \n",
       "2875281                                   1  \n",
       "2875282                                   1  \n",
       "2875283                                   1  \n",
       "\n",
       "[2875284 rows x 16 columns]"
      ]
     },
     "execution_count": 34,
     "metadata": {},
     "output_type": "execute_result"
    }
   ],
   "source": [
    "df_bitcoin"
   ]
  },
  {
   "cell_type": "code",
   "execution_count": 35,
   "metadata": {},
   "outputs": [
    {
     "data": {
      "text/plain": [
       "MLPClassifier_pred\n",
       "0    2874969\n",
       "1        315\n",
       "Name: count, dtype: int64"
      ]
     },
     "execution_count": 35,
     "metadata": {},
     "output_type": "execute_result"
    }
   ],
   "source": [
    "df_bitcoin['MLPClassifier_pred'].value_counts()"
   ]
  },
  {
   "cell_type": "code",
   "execution_count": 36,
   "metadata": {},
   "outputs": [],
   "source": [
    "# convert day and year to int\n",
    "df_bitcoin['day'] = df_bitcoin['day'].astype(int)\n",
    "df_bitcoin['year'] = df_bitcoin['year'].astype(int)"
   ]
  },
  {
   "cell_type": "code",
   "execution_count": 37,
   "metadata": {},
   "outputs": [],
   "source": [
    "df_bitcoin['month'] = df_bitcoin.apply(lambda row: day_number_to_date(row['day'], row['year'])[0], axis=1)\n",
    "df_bitcoin['date'] = df_bitcoin.apply(lambda row: day_number_to_date(row['day'], row['year'])[1], axis=1)"
   ]
  },
  {
   "cell_type": "code",
   "execution_count": 38,
   "metadata": {},
   "outputs": [
    {
     "data": {
      "text/plain": [
       "month\n",
       "8     17160\n",
       "5     17115\n",
       "3     17062\n",
       "7     16955\n",
       "10    16955\n",
       "4     16586\n",
       "9     16580\n",
       "6     16428\n",
       "2     15421\n",
       "11    14400\n",
       "1         3\n",
       "Name: count, dtype: int64"
      ]
     },
     "execution_count": 38,
     "metadata": {},
     "output_type": "execute_result"
    }
   ],
   "source": [
    "df_bitcoin[df_bitcoin['year'] == 2018]['month'].value_counts()"
   ]
  },
  {
   "cell_type": "code",
   "execution_count": 39,
   "metadata": {},
   "outputs": [],
   "source": [
    "# sort by year and then by month and then by date\n",
    "df_bitcoin = df_bitcoin.sort_values(by=['year', 'month', 'date'])"
   ]
  },
  {
   "cell_type": "code",
   "execution_count": 40,
   "metadata": {},
   "outputs": [],
   "source": [
    "ls_year = df_bitcoin['year'].to_list()\n",
    "ls_month = df_bitcoin['month'].to_list()\n",
    "ls_year_month = []\n",
    "for i in range(len(ls_year)):\n",
    "    ym = str(ls_year[i]) + '-'\n",
    "    if ls_month[i] < 10:\n",
    "        ym += '0'\n",
    "    ym += str(ls_month[i])\n",
    "    ls_year_month.append(ym)\n",
    "df_bitcoin['year_month'] = ls_year_month"
   ]
  },
  {
   "cell_type": "code",
   "execution_count": 41,
   "metadata": {},
   "outputs": [],
   "source": [
    "# randomly sample 10000 rows\n",
    "df_bitcoin_sample = df_bitcoin.sample(n=10000, random_state=1)"
   ]
  },
  {
   "cell_type": "code",
   "execution_count": 42,
   "metadata": {},
   "outputs": [],
   "source": [
    "min_year_month = df_bitcoin['year_month'].min()\n",
    "max_year_month = df_bitcoin['year_month'].max()\n",
    "\n",
    "min_year_month_sample = df_bitcoin_sample['year_month'].min()\n",
    "max_year_month_sample = df_bitcoin_sample['year_month'].max()"
   ]
  },
  {
   "cell_type": "code",
   "execution_count": 43,
   "metadata": {},
   "outputs": [
    {
     "data": {
      "text/plain": [
       "('2011-02', '2018-11', '2011-02', '2018-11')"
      ]
     },
     "execution_count": 43,
     "metadata": {},
     "output_type": "execute_result"
    }
   ],
   "source": [
    "min_year_month, max_year_month, min_year_month_sample, max_year_month_sample"
   ]
  },
  {
   "cell_type": "code",
   "execution_count": 44,
   "metadata": {},
   "outputs": [],
   "source": [
    "# create new dataframe with year_month and label\n",
    "df_bitcoin_year_month = df_bitcoin[['year_month', 'MLPClassifier_pred']]\n",
    "df_bitcoin_year_month\n",
    "\n",
    "# for each year_month, count the number of white and non-white transactions and store in a new dataframe\n",
    "df_transaction_counts = pd.DataFrame(columns=['year_month', 'white_count', 'non_white_count'])\n",
    "for year_month in df_bitcoin_year_month['year_month'].unique():\n",
    "    df_year_month = df_bitcoin_year_month[df_bitcoin_year_month['year_month'] == year_month]\n",
    "    white_count = df_year_month[df_year_month['MLPClassifier_pred'] == 0]['MLPClassifier_pred'].count()\n",
    "    non_white_count = df_year_month[df_year_month['MLPClassifier_pred'] != 0]['MLPClassifier_pred'].count()\n",
    "    df_transaction_counts = pd.concat([df_transaction_counts, pd.DataFrame([[year_month, white_count, non_white_count]], columns=['year_month', 'white_count', 'non_white_count'])])\n",
    "df_transaction_counts['proportion_ransomware'] = df_transaction_counts['non_white_count'] / (df_transaction_counts['white_count'] + df_transaction_counts['non_white_count'])"
   ]
  },
  {
   "cell_type": "code",
   "execution_count": 45,
   "metadata": {},
   "outputs": [],
   "source": [
    "# create new dataframe with year_month and label\n",
    "df_bitcoin_sample_year_month = df_bitcoin_sample[['year_month', 'MLPClassifier_pred']]\n",
    "df_bitcoin_sample_year_month\n",
    "\n",
    "# for each year_month, count the number of white and non-white transactions and store in a new dataframe\n",
    "df_transaction_counts_sample = pd.DataFrame(columns=['year_month', 'white_count', 'non_white_count'])\n",
    "for year_month in df_bitcoin_sample_year_month['year_month'].unique():\n",
    "    df_year_month = df_bitcoin_sample_year_month[df_bitcoin_sample_year_month['year_month'] == year_month]\n",
    "    white_count = df_year_month[df_year_month['MLPClassifier_pred'] == 0]['MLPClassifier_pred'].count()\n",
    "    non_white_count = df_year_month[df_year_month['MLPClassifier_pred'] != 0]['MLPClassifier_pred'].count()\n",
    "    df_transaction_counts_sample = pd.concat([df_transaction_counts_sample, pd.DataFrame([[year_month, white_count, non_white_count]], columns=['year_month', 'white_count', 'non_white_count'])])\n",
    "df_transaction_counts_sample['proportion_ransomware'] = df_transaction_counts_sample['non_white_count'] / (df_transaction_counts_sample['white_count'] + df_transaction_counts_sample['non_white_count'])"
   ]
  },
  {
   "cell_type": "code",
   "execution_count": 46,
   "metadata": {},
   "outputs": [],
   "source": [
    "ls_proportion_ransomware = df_transaction_counts['proportion_ransomware'].tolist()\n",
    "mean_proportion_ransomware = np.mean(ls_proportion_ransomware)\n",
    "std_dev_proportion_ransomware = np.std(ls_proportion_ransomware)\n",
    "\n",
    "ls_proportion_ransomware_sample = df_transaction_counts_sample['proportion_ransomware'].tolist()\n",
    "mean_proportion_ransomware_sample = np.mean(ls_proportion_ransomware_sample)\n",
    "std_dev_proportion_ransomware_sample = np.std(ls_proportion_ransomware_sample)"
   ]
  },
  {
   "cell_type": "code",
   "execution_count": 47,
   "metadata": {},
   "outputs": [
    {
     "data": {
      "text/plain": [
       "(0.0001856819673710817,\n",
       " 0.0005203071795578493,\n",
       " 0.00019817677368212446,\n",
       " 0.001837815793796217)"
      ]
     },
     "execution_count": 47,
     "metadata": {},
     "output_type": "execute_result"
    }
   ],
   "source": [
    "mean_proportion_ransomware, std_dev_proportion_ransomware, mean_proportion_ransomware_sample, std_dev_proportion_ransomware_sample"
   ]
  },
  {
   "cell_type": "code",
   "execution_count": 48,
   "metadata": {},
   "outputs": [],
   "source": [
    "df_gtrend_bitcoin = pd.read_csv('../Data/GoogleTrends/Bitcoin.csv')\n",
    "df_gtrend_crypto = pd.read_csv('../Data/GoogleTrends/Cryptocurrency.csv')\n",
    "df_gtrend_ransomware = pd.read_csv('../Data/GoogleTrends/Ransomware.csv')"
   ]
  },
  {
   "cell_type": "code",
   "execution_count": 49,
   "metadata": {},
   "outputs": [
    {
     "data": {
      "text/plain": [
       "'bitcoin: (Worldwide)'"
      ]
     },
     "execution_count": 49,
     "metadata": {},
     "output_type": "execute_result"
    }
   ],
   "source": [
    "df_gtrend_bitcoin['Category: All categories']['Month']"
   ]
  },
  {
   "cell_type": "code",
   "execution_count": 50,
   "metadata": {},
   "outputs": [
    {
     "data": {
      "text/plain": [
       "'ransomware: (Worldwide)'"
      ]
     },
     "execution_count": 50,
     "metadata": {},
     "output_type": "execute_result"
    }
   ],
   "source": [
    "gtrend_bitcoin_dict = df_gtrend_bitcoin['Category: All categories'].to_dict()\n",
    "gtrend_crypto_dict = df_gtrend_crypto['Category: All categories'].to_dict()\n",
    "gtrend_ransomware_dict = df_gtrend_ransomware['Category: All categories'].to_dict()\n",
    "\n",
    "# remove first entry\n",
    "gtrend_bitcoin_dict.pop('Month')\n",
    "gtrend_crypto_dict.pop('Month')\n",
    "gtrend_ransomware_dict.pop('Month')\n"
   ]
  },
  {
   "cell_type": "code",
   "execution_count": 51,
   "metadata": {},
   "outputs": [],
   "source": [
    "# change all values which say '<1' to 0\n",
    "for key, value in gtrend_bitcoin_dict.items():\n",
    "    if value == '<1':\n",
    "        gtrend_bitcoin_dict[key] = 0\n",
    "\n",
    "for key, value in gtrend_crypto_dict.items():\n",
    "    if value == '<1':\n",
    "        gtrend_crypto_dict[key] = 0\n",
    "\n",
    "for key, value in gtrend_ransomware_dict.items():\n",
    "    if value == '<1':\n",
    "        gtrend_ransomware_dict[key] = 0"
   ]
  },
  {
   "cell_type": "code",
   "execution_count": 52,
   "metadata": {},
   "outputs": [],
   "source": [
    "# change all values to int\n",
    "for key, value in gtrend_bitcoin_dict.items():\n",
    "    gtrend_bitcoin_dict[key] = int(value)\n",
    "\n",
    "for key, value in gtrend_crypto_dict.items():\n",
    "    gtrend_crypto_dict[key] = int(value)\n",
    "\n",
    "for key, value in gtrend_ransomware_dict.items():\n",
    "    gtrend_ransomware_dict[key] = int(value)"
   ]
  },
  {
   "cell_type": "code",
   "execution_count": 53,
   "metadata": {},
   "outputs": [],
   "source": [
    "# remove keys which are not in the range of the bitcoin dataset\n",
    "for key in list(gtrend_bitcoin_dict.keys()):\n",
    "    min_year = int(min_year_month.split('-')[0])\n",
    "    max_year = int(max_year_month.split('-')[0])\n",
    "    min_month = int(min_year_month.split('-')[1])\n",
    "    max_month = int(max_year_month.split('-')[1])\n",
    "    year = int(key.split('-')[0])\n",
    "    month = int(key.split('-')[1])\n",
    "    if year < min_year or year > max_year:\n",
    "        gtrend_bitcoin_dict.pop(key)\n",
    "    elif year == min_year and month < min_month:\n",
    "        gtrend_bitcoin_dict.pop(key)\n",
    "    elif year == max_year and month > max_month:\n",
    "        gtrend_bitcoin_dict.pop(key)\n",
    "\n",
    "for key in list(gtrend_crypto_dict.keys()):\n",
    "    min_year = int(min_year_month.split('-')[0])\n",
    "    max_year = int(max_year_month.split('-')[0])\n",
    "    min_month = int(min_year_month.split('-')[1])\n",
    "    max_month = int(max_year_month.split('-')[1])\n",
    "    year = int(key.split('-')[0])\n",
    "    month = int(key.split('-')[1])\n",
    "    if year < min_year or year > max_year:\n",
    "        gtrend_crypto_dict.pop(key)\n",
    "    elif year == min_year and month < min_month:\n",
    "        gtrend_crypto_dict.pop(key)\n",
    "    elif year == max_year and month > max_month:\n",
    "        gtrend_crypto_dict.pop(key)\n",
    "\n",
    "for key in list(gtrend_ransomware_dict.keys()):\n",
    "    min_year = int(min_year_month.split('-')[0])\n",
    "    max_year = int(max_year_month.split('-')[0])\n",
    "    min_month = int(min_year_month.split('-')[1])\n",
    "    max_month = int(max_year_month.split('-')[1])\n",
    "    year = int(key.split('-')[0])\n",
    "    month = int(key.split('-')[1])\n",
    "    if year < min_year or year > max_year:\n",
    "        gtrend_ransomware_dict.pop(key)\n",
    "    elif year == min_year and month < min_month:\n",
    "        gtrend_ransomware_dict.pop(key)\n",
    "    elif year == max_year and month > max_month:\n",
    "        gtrend_ransomware_dict.pop(key)"
   ]
  },
  {
   "cell_type": "code",
   "execution_count": 54,
   "metadata": {},
   "outputs": [],
   "source": [
    "# find top 5 keys with highest values\n",
    "top_10_bitcoin_gtrend = sorted(gtrend_bitcoin_dict, key=gtrend_bitcoin_dict.get, reverse=True)[:10]\n",
    "top_10_crypto_gtrend = sorted(gtrend_crypto_dict, key=gtrend_crypto_dict.get, reverse=True)[:10]\n",
    "top_10_ransomware_gtrend = sorted(gtrend_ransomware_dict, key=gtrend_ransomware_dict.get, reverse=True)[:10]\n",
    "\n",
    "# find top 5 values\n",
    "top_10_bitcoin_gtrend_values = sorted(gtrend_bitcoin_dict.values(), reverse=True)[:10]\n",
    "top_10_crypto_gtrend_values = sorted(gtrend_crypto_dict.values(), reverse=True)[:10]\n",
    "top_10_ransomware_gtrend_values = sorted(gtrend_ransomware_dict.values(), reverse=True)[:10]"
   ]
  },
  {
   "cell_type": "markdown",
   "metadata": {},
   "source": [
    "## Bitcoin"
   ]
  },
  {
   "cell_type": "code",
   "execution_count": 55,
   "metadata": {},
   "outputs": [
    {
     "name": "stdout",
     "output_type": "stream",
     "text": [
      "z_score: 2.8036521032893966\n",
      "z_critical: 1.6448536269514722\n",
      "Reject null hypothesis\n"
     ]
    }
   ],
   "source": [
    "# find entries in df_transaction_counts which correspond to the top 5 bitcoin gtrend values\n",
    "df_transaction_counts_sample_top_10_bitcoin = df_transaction_counts_sample[df_transaction_counts_sample['year_month'].isin(top_10_bitcoin_gtrend)]\n",
    "\n",
    "# perform Z-test on the top 5 bitcoin gtrend values\n",
    "ls_proportion_ransomware_sample_top_5_bitcoin = df_transaction_counts_sample_top_10_bitcoin['proportion_ransomware'].tolist()\n",
    "mean_proportion_ransomware_sample_top_5_bitcoin = np.mean(ls_proportion_ransomware_sample_top_5_bitcoin)\n",
    "std_dev_proportion_ransomware_sample_top_5_bitcoin = np.std(ls_proportion_ransomware_sample_top_5_bitcoin)\n",
    "\n",
    "sample_size = len(ls_proportion_ransomware_sample_top_5_bitcoin)\n",
    "sample_mean = mean_proportion_ransomware_sample_top_5_bitcoin\n",
    "population_mean = mean_proportion_ransomware_sample\n",
    "population_std_dev = std_dev_proportion_ransomware_sample\n",
    "alpha = 0.05\n",
    "\n",
    "z_score = (sample_mean - population_mean) / (population_std_dev / np.sqrt(sample_size))\n",
    "z_critical = stats.norm.ppf(1 - alpha)\n",
    "\n",
    "print('z_score:', z_score)\n",
    "print('z_critical:', z_critical)\n",
    "\n",
    "if z_score > z_critical:\n",
    "    print('Reject null hypothesis')\n",
    "else:\n",
    "    print('Fail to reject null hypothesis')"
   ]
  },
  {
   "cell_type": "code",
   "execution_count": 56,
   "metadata": {},
   "outputs": [
    {
     "name": "stdout",
     "output_type": "stream",
     "text": [
      "z_score: 4.227979971588073\n",
      "z_critical: 1.6448536269514722\n",
      "Reject null hypothesis\n"
     ]
    }
   ],
   "source": [
    "# find entries in df_transaction_counts which correspond to the top 5 bitcoin gtrend values\n",
    "df_transaction_counts_top_10_bitcoin = df_transaction_counts[df_transaction_counts['year_month'].isin(top_10_bitcoin_gtrend)]\n",
    "\n",
    "# perform Z-test on the top 5 bitcoin gtrend values\n",
    "ls_proportion_ransomware_top_5_bitcoin = df_transaction_counts_top_10_bitcoin['proportion_ransomware'].tolist()\n",
    "mean_proportion_ransomware_top_5_bitcoin = np.mean(ls_proportion_ransomware_top_5_bitcoin)\n",
    "std_dev_proportion_ransomware_top_5_bitcoin = np.std(ls_proportion_ransomware_top_5_bitcoin)\n",
    "\n",
    "sample_size = len(ls_proportion_ransomware_top_5_bitcoin)\n",
    "sample_mean = mean_proportion_ransomware_top_5_bitcoin\n",
    "population_mean = mean_proportion_ransomware\n",
    "population_std_dev = std_dev_proportion_ransomware\n",
    "alpha = 0.05\n",
    "\n",
    "z_score = (sample_mean - population_mean) / (population_std_dev / np.sqrt(sample_size))\n",
    "z_critical = stats.norm.ppf(1 - alpha)\n",
    "\n",
    "print('z_score:', z_score)\n",
    "print('z_critical:', z_critical)\n",
    "\n",
    "if z_score > z_critical:\n",
    "    print('Reject null hypothesis')\n",
    "else:\n",
    "    print('Fail to reject null hypothesis')"
   ]
  },
  {
   "cell_type": "markdown",
   "metadata": {},
   "source": [
    "## Crypto"
   ]
  },
  {
   "cell_type": "code",
   "execution_count": 57,
   "metadata": {},
   "outputs": [
    {
     "name": "stdout",
     "output_type": "stream",
     "text": [
      "z_score: 9.975031555549226\n",
      "z_critical: 1.6448536269514722\n",
      "Reject null hypothesis\n"
     ]
    }
   ],
   "source": [
    "# find entries in df_transaction_counts which correspond to the top 5 crypto gtrend values\n",
    "df_transaction_counts_sample_top_10_crypto = df_transaction_counts_sample[df_transaction_counts_sample['year_month'].isin(top_10_crypto_gtrend)]\n",
    "\n",
    "# perform Z-test on the top 5 crypto gtrend values\n",
    "ls_proportion_ransomware_sample_top_10_crypto = df_transaction_counts_sample_top_10_crypto['proportion_ransomware'].tolist()\n",
    "mean_proportion_ransomware_sample_top_10_crypto = np.mean(ls_proportion_ransomware_sample_top_10_crypto)\n",
    "std_dev_proportion_ransomware_sample_top_10_crypto = np.std(ls_proportion_ransomware_sample_top_10_crypto)\n",
    "\n",
    "sample_size = len(ls_proportion_ransomware_sample_top_10_crypto)\n",
    "sample_mean = mean_proportion_ransomware_sample_top_10_crypto\n",
    "population_mean = mean_proportion_ransomware\n",
    "population_std_dev = std_dev_proportion_ransomware\n",
    "alpha = 0.05\n",
    "\n",
    "z_score = (sample_mean - population_mean) / (population_std_dev / np.sqrt(sample_size))\n",
    "z_critical = stats.norm.ppf(1 - alpha)\n",
    "\n",
    "print('z_score:', z_score)\n",
    "print('z_critical:', z_critical)\n",
    "\n",
    "if z_score > z_critical:\n",
    "    print('Reject null hypothesis')\n",
    "else:\n",
    "    print('Fail to reject null hypothesis')"
   ]
  },
  {
   "cell_type": "code",
   "execution_count": 58,
   "metadata": {},
   "outputs": [
    {
     "name": "stdout",
     "output_type": "stream",
     "text": [
      "z_score: 3.21972775868727\n",
      "z_critical: 1.6448536269514722\n",
      "Reject null hypothesis\n"
     ]
    }
   ],
   "source": [
    "# find entries in df_transaction_counts which correspond to the top 5 crypto gtrend values\n",
    "df_transaction_counts_top_10_crypto = df_transaction_counts[df_transaction_counts['year_month'].isin(top_10_crypto_gtrend)]\n",
    "\n",
    "# perform Z-test on the top 5 crypto gtrend values\n",
    "ls_proportion_ransomware_top_10_crypto = df_transaction_counts_top_10_crypto['proportion_ransomware'].tolist()\n",
    "mean_proportion_ransomware_top_10_crypto = np.mean(ls_proportion_ransomware_top_10_crypto)\n",
    "std_dev_proportion_ransomware_top_10_crypto = np.std(ls_proportion_ransomware_top_10_crypto)\n",
    "\n",
    "sample_size = len(ls_proportion_ransomware_top_10_crypto)\n",
    "sample_mean = mean_proportion_ransomware_top_10_crypto\n",
    "population_mean = mean_proportion_ransomware\n",
    "population_std_dev = std_dev_proportion_ransomware\n",
    "alpha = 0.05\n",
    "\n",
    "z_score = (sample_mean - population_mean) / (population_std_dev / np.sqrt(sample_size))\n",
    "z_critical = stats.norm.ppf(1 - alpha)\n",
    "\n",
    "print('z_score:', z_score)\n",
    "print('z_critical:', z_critical)\n",
    "\n",
    "if z_score > z_critical:\n",
    "    print('Reject null hypothesis')\n",
    "else:\n",
    "    print('Fail to reject null hypothesis')"
   ]
  },
  {
   "cell_type": "markdown",
   "metadata": {},
   "source": [
    "## Ransomware"
   ]
  },
  {
   "cell_type": "code",
   "execution_count": 59,
   "metadata": {},
   "outputs": [
    {
     "name": "stdout",
     "output_type": "stream",
     "text": [
      "z_score: -1.128521689461718\n",
      "z_critical: 1.6448536269514722\n",
      "Fail to reject null hypothesis\n"
     ]
    }
   ],
   "source": [
    "# find entries in df_transaction_counts which correspond to the top 5 ransomware gtrend values\n",
    "df_transaction_counts_top_10_ransomware_sample = df_transaction_counts_sample[df_transaction_counts_sample['year_month'].isin(top_10_ransomware_gtrend)]\n",
    "\n",
    "# perform Z-test on the top 10 ransomware gtrend values\n",
    "ls_proportion_ransomware_sample_top_10_ransomware = df_transaction_counts_top_10_ransomware_sample['proportion_ransomware'].tolist()\n",
    "mean_proportion_ransomware_sample_top_10_ransomware = np.mean(ls_proportion_ransomware_sample_top_10_ransomware)\n",
    "std_dev_proportion_ransomware_sample_top_10_ransomware = np.std(ls_proportion_ransomware_sample_top_10_ransomware)\n",
    "\n",
    "sample_size = len(ls_proportion_ransomware_sample_top_10_ransomware)\n",
    "sample_mean = mean_proportion_ransomware_sample_top_10_ransomware\n",
    "population_mean = mean_proportion_ransomware\n",
    "population_std_dev = std_dev_proportion_ransomware\n",
    "alpha = 0.05\n",
    "\n",
    "z_score = (sample_mean - population_mean) / (population_std_dev / np.sqrt(sample_size))\n",
    "z_critical = stats.norm.ppf(1 - alpha)\n",
    "\n",
    "print('z_score:', z_score)\n",
    "print('z_critical:', z_critical)\n",
    "\n",
    "if z_score > z_critical:\n",
    "    print('Reject null hypothesis')\n",
    "else:\n",
    "    print('Fail to reject null hypothesis')"
   ]
  },
  {
   "cell_type": "code",
   "execution_count": 60,
   "metadata": {},
   "outputs": [
    {
     "name": "stdout",
     "output_type": "stream",
     "text": [
      "z_score: 1.7327615352961445\n",
      "z_critical: 1.6448536269514722\n",
      "Reject null hypothesis\n"
     ]
    }
   ],
   "source": [
    "# find entries in df_transaction_counts which correspond to the top 5 ransomware gtrend values\n",
    "df_transaction_counts_top_10_ransomware = df_transaction_counts[df_transaction_counts['year_month'].isin(top_10_ransomware_gtrend)]\n",
    "\n",
    "# perform Z-test on the top 10 ransomware gtrend values\n",
    "ls_proportion_ransomware_top_10_ransomware = df_transaction_counts_top_10_ransomware['proportion_ransomware'].tolist()\n",
    "mean_proportion_ransomware_top_10_ransomware = np.mean(ls_proportion_ransomware_top_10_ransomware)\n",
    "std_dev_proportion_ransomware_top_10_ransomware = np.std(ls_proportion_ransomware_top_10_ransomware)\n",
    "\n",
    "sample_size = len(ls_proportion_ransomware_top_10_ransomware)\n",
    "sample_mean = mean_proportion_ransomware_top_10_ransomware\n",
    "population_mean = mean_proportion_ransomware\n",
    "population_std_dev = std_dev_proportion_ransomware\n",
    "alpha = 0.05\n",
    "\n",
    "z_score = (sample_mean - population_mean) / (population_std_dev / np.sqrt(sample_size))\n",
    "z_critical = stats.norm.ppf(1 - alpha)\n",
    "\n",
    "print('z_score:', z_score)\n",
    "print('z_critical:', z_critical)\n",
    "\n",
    "if z_score > z_critical:\n",
    "    print('Reject null hypothesis')\n",
    "else:\n",
    "    print('Fail to reject null hypothesis')"
   ]
  }
 ],
 "metadata": {
  "kernelspec": {
   "display_name": "Python 3",
   "language": "python",
   "name": "python3"
  },
  "language_info": {
   "codemirror_mode": {
    "name": "ipython",
    "version": 3
   },
   "file_extension": ".py",
   "mimetype": "text/x-python",
   "name": "python",
   "nbconvert_exporter": "python",
   "pygments_lexer": "ipython3",
   "version": "3.11.4"
  }
 },
 "nbformat": 4,
 "nbformat_minor": 2
}
